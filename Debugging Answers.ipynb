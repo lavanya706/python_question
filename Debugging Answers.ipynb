{
 "cells": [
  {
   "cell_type": "code",
   "execution_count": null,
   "id": "bc53b641",
   "metadata": {},
   "outputs": [],
   "source": [
    "#1.Identify and fix the syntax error in the following code:\n",
    "\n",
    "\n",
    "age = 18\n",
    "if age >= 18\n",
    "    print(\"You are eligible to vote\")\n",
    "\n"
   ]
  },
  {
   "cell_type": "code",
   "execution_count": null,
   "id": "70745182",
   "metadata": {},
   "outputs": [],
   "source": [
    "#1.Identify and fix the syntax error in the following code:\n",
    "#ans\n",
    "\n",
    "age = 18\n",
    "if age >= 18:\n",
    "    print(\"You are eligible to vote\")\n",
    "\n"
   ]
  },
  {
   "cell_type": "code",
   "execution_count": null,
   "id": "26489768",
   "metadata": {},
   "outputs": [],
   "source": [
    "#2.Question:\n",
    "What error will occur in the following code?\n",
    "\n",
    "\n",
    "def greet():\n",
    "    print(\"Hello, World!\")\n",
    "\n",
    "greet_user()\n",
    "  #ans:\n",
    "    #the greet_user() is not used in function name-name error"
   ]
  },
  {
   "cell_type": "code",
   "execution_count": null,
   "id": "85ef2cdc",
   "metadata": {},
   "outputs": [],
   "source": [
    "#3.Identify the error in this code:\n",
    "\n",
    "name = \"Alice\"\n",
    "age = 25\n",
    "print(\"My name is \" + name + \" and I am \" + age + \" years old.\")\n",
    "\n",
    "\n",
    "# ans:\n",
    "# use .format() method \n",
    "print(\"My name is {} and I am {} years old\".format(name,age))"
   ]
  },
  {
   "cell_type": "code",
   "execution_count": null,
   "id": "bfac1624",
   "metadata": {},
   "outputs": [],
   "source": [
    "#4.Question:\n",
    "What will happen when you run this code?\n",
    "\n",
    "a = 10\n",
    "b = 0\n",
    "result = a / b\n",
    "print(result)\n",
    "\n",
    "# zerdivision error will be occured"
   ]
  },
  {
   "cell_type": "code",
   "execution_count": null,
   "id": "0e620990",
   "metadata": {},
   "outputs": [],
   "source": [
    "#5.What error will occur in the following code?\n",
    "\n",
    "num = int(\"xyz\")\n",
    "print(num)\n",
    "# datatype is declared as integer.so String is not allowed."
   ]
  },
  {
   "cell_type": "code",
   "execution_count": null,
   "id": "30b30a19",
   "metadata": {},
   "outputs": [],
   "source": [
    "#6.Identify the issue in this code:\n",
    "\n",
    "data = {\"name\": \"John\", \"age\": 30}\n",
    "print(data[\"city\"])\n",
    "\n",
    "#city is not mentioned in data.so it is name error \n"
   ]
  },
  {
   "cell_type": "code",
   "execution_count": null,
   "id": "4fa0a1b0",
   "metadata": {},
   "outputs": [],
   "source": [
    "#7.What will happen when you run this code?\n",
    "num = 1\n",
    "while num < 5:\n",
    "    print(num)\n",
    "# ans:  Infinity.because the num is always 1.the condition will always be true."
   ]
  },
  {
   "cell_type": "code",
   "execution_count": null,
   "id": "99d2934b",
   "metadata": {},
   "outputs": [],
   "source": [
    "#8.What is wrong with this code?\n",
    "\n",
    "fruits = (\"apple\", \"banana\", \"cherry\")\n",
    "print(fruits[3])\n",
    "\n",
    "# ans:error\n",
    "#because the index value starts from 0.In this fruits there is only 0 to 2.so 3 is not exist in this data"
   ]
  },
  {
   "cell_type": "code",
   "execution_count": null,
   "id": "6453bbbc",
   "metadata": {},
   "outputs": [],
   "source": [
    "#9.What will happen when you run this code?\n",
    "\n",
    "text = \"hello world\"\n",
    "text.append(\"!\")\n",
    "\n",
    "# output:['hello','world','!']"
   ]
  },
  {
   "cell_type": "code",
   "execution_count": null,
   "id": "0f837b1c",
   "metadata": {},
   "outputs": [],
   "source": [
    "#10.What is wrong with the following code?\n",
    "\n",
    "import randoms\n",
    "print(randoms.randint(1, 10))\n",
    "\n",
    "#ans:name error\n",
    "# random shpuld be used. not to use randoms"
   ]
  }
 ],
 "metadata": {
  "kernelspec": {
   "display_name": "Python 3 (ipykernel)",
   "language": "python",
   "name": "python3"
  },
  "language_info": {
   "codemirror_mode": {
    "name": "ipython",
    "version": 3
   },
   "file_extension": ".py",
   "mimetype": "text/x-python",
   "name": "python",
   "nbconvert_exporter": "python",
   "pygments_lexer": "ipython3",
   "version": "3.7.16"
  }
 },
 "nbformat": 4,
 "nbformat_minor": 5
}
