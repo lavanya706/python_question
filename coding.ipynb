{
 "cells": [
  {
   "cell_type": "code",
   "execution_count": 1,
   "id": "2053e091",
   "metadata": {},
   "outputs": [
    {
     "name": "stdout",
     "output_type": "stream",
     "text": [
      "the gcs of two number is 12\n"
     ]
    }
   ],
   "source": [
    "#1.Find the GCD of Two Numbers\n",
    "#Question: Write a Python program to find the Greatest Common Divisor (GCD) of 36 and 60.\n",
    "\n",
    "\n",
    "import math\n",
    "a,b=36,60\n",
    "gcd=math.gcd(a,b)\n",
    "print(\"the gcs of two number is\",gcd)"
   ]
  },
  {
   "cell_type": "code",
   "execution_count": 2,
   "id": "31e0fc3f",
   "metadata": {},
   "outputs": [
    {
     "name": "stdout",
     "output_type": "stream",
     "text": [
      "sum of digits: 24\n"
     ]
    }
   ],
   "source": [
    "#2. Find the Sum of Digits of a Number\n",
    "#Question: Write a Python program to find the sum of the digits of the number 987.\n",
    "\n",
    "num=987\n",
    "total=0\n",
    "while num>0:\n",
    "    digit=num%10\n",
    "    total+=digit\n",
    "    num//=10\n",
    "print(\"sum of digits:\",total)\n"
   ]
  },
  {
   "cell_type": "code",
   "execution_count": 4,
   "id": "9bae6014",
   "metadata": {},
   "outputs": [
    {
     "name": "stdout",
     "output_type": "stream",
     "text": [
      "1\n",
      "2\n",
      "3\n",
      "4\n",
      "5\n",
      "6\n",
      "7\n",
      "8\n",
      "9\n",
      "153\n",
      "370\n",
      "371\n",
      "407\n"
     ]
    }
   ],
   "source": [
    "#3. Find All Armstrong Numbers Between 1 and 1000\n",
    "#Question: Write a Python program to print all Armstrong numbers between 1 and 1000.\n",
    "\n",
    "for num in range(1,1001):\n",
    "    s=0\n",
    "    temp=num\n",
    "    n=len(str(num))\n",
    "    while temp>0:\n",
    "        d=temp%10\n",
    "        s+=d**n\n",
    "        temp//=10\n",
    "    if s==num:\n",
    "        print(num)\n",
    "    "
   ]
  },
  {
   "cell_type": "code",
   "execution_count": 5,
   "id": "5fa86d2a",
   "metadata": {},
   "outputs": [
    {
     "name": "stdout",
     "output_type": "stream",
     "text": [
      "{'p': 1, 'r': 2, 'o': 1, 'g': 2, 'a': 1, 'm': 2, 'i': 1, 'n': 1}\n"
     ]
    }
   ],
   "source": [
    "#4.Count the Frequency of Each Character in a String\n",
    "#Question: Write a Python program to count the frequency of each character in \"programming\".\n",
    "\n",
    "word=\"programming\"\n",
    "freq={}\n",
    "for ch in word:\n",
    "    freq[ch]=freq.get(ch,0)+1\n",
    "print(freq)    "
   ]
  },
  {
   "cell_type": "code",
   "execution_count": 6,
   "id": "58b95028",
   "metadata": {},
   "outputs": [
    {
     "name": "stdout",
     "output_type": "stream",
     "text": [
      "[1, 4, 9, 16, 25, 36, 49, 64, 81, 100]\n"
     ]
    }
   ],
   "source": [
    "#5. Generate a List of Squares of Numbers from 1 to 10\n",
    "#Question: Write a Python program to generate a list containing squares of numbers from 1 to 10.\n",
    "\n",
    "squares=[]\n",
    "for i in range(1,11):\n",
    "    squares.append(i*i)\n",
    "    \n",
    "print(squares)   "
   ]
  }
 ],
 "metadata": {
  "kernelspec": {
   "display_name": "Python 3 (ipykernel)",
   "language": "python",
   "name": "python3"
  },
  "language_info": {
   "codemirror_mode": {
    "name": "ipython",
    "version": 3
   },
   "file_extension": ".py",
   "mimetype": "text/x-python",
   "name": "python",
   "nbconvert_exporter": "python",
   "pygments_lexer": "ipython3",
   "version": "3.7.16"
  }
 },
 "nbformat": 4,
 "nbformat_minor": 5
}
